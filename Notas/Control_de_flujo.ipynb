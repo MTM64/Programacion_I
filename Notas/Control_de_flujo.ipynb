{
 "cells": [
  {
   "cell_type": "markdown",
   "metadata": {},
   "source": [
    "# Control de flujo\n",
    "Muchas veces es indispensable cambiar el flujo de ejecución de un script. Para eso necesitamos de distintas herramientas (métodos) que hagan posible saltar líneas de comando o repetirlas. Empezemos con los condicionales.\n",
    "\n",
    "## Expresiones Booleanas\n",
    "Las expresiones booleanas son operadores que nos sirven para comparar expresiones. Estas regresan valores *Booleanos*, `true` o `false`.\n",
    "\n",
    "* ==                \n",
    "* \\>= ($\\ge$ = \\ge + `tab`)\n",
    "* <= ($\\le$ = \\le + `tab`)\n",
    "* != \n"
   ]
  },
  {
   "cell_type": "code",
   "execution_count": null,
   "metadata": {},
   "outputs": [],
   "source": [
    " 5 == 6"
   ]
  },
  {
   "cell_type": "code",
   "execution_count": null,
   "metadata": {},
   "outputs": [],
   "source": [
    "5 != 6"
   ]
  },
  {
   "cell_type": "code",
   "execution_count": null,
   "metadata": {},
   "outputs": [],
   "source": [
    "5 <= 6"
   ]
  },
  {
   "cell_type": "markdown",
   "metadata": {},
   "source": [
    "### Ejercicio:\n",
    "* ¿Qué tipo de valores arrojan las expresiones anteriores? \n",
    "* ¿Cuál es su expresión en bits?"
   ]
  },
  {
   "cell_type": "code",
   "execution_count": null,
   "metadata": {},
   "outputs": [],
   "source": []
  },
  {
   "cell_type": "markdown",
   "metadata": {},
   "source": [
    "## Operadores `&&` , `||` y `!`\n",
    "\n",
    "Cualquier lenguaje de programación está basado en la [lógica Booleana](https://es.wikipedia.org/wiki/%C3%81lgebra_de_Boole). \n",
    "\n",
    "Los operadores lógicos son `&&` ( **y**), `||`( **o** ), `!`( **no** )."
   ]
  },
  {
   "cell_type": "code",
   "execution_count": null,
   "metadata": {},
   "outputs": [],
   "source": [
    "x = 12\n",
    "x > 0 && x< 10"
   ]
  },
  {
   "cell_type": "code",
   "execution_count": null,
   "metadata": {},
   "outputs": [],
   "source": [
    "x > 0 || x< 10"
   ]
  },
  {
   "cell_type": "code",
   "execution_count": null,
   "metadata": {},
   "outputs": [],
   "source": [
    "y = 10\n",
    "!(x < y)"
   ]
  },
  {
   "cell_type": "code",
   "execution_count": null,
   "metadata": {},
   "outputs": [],
   "source": [
    "x < y"
   ]
  },
  {
   "cell_type": "markdown",
   "metadata": {},
   "source": [
    "## Condicionales: `if-elseif-else`\n",
    "\n",
    "La estructura básica de un condicional `if` tiene la forma:\n",
    "```julia\n",
    "if <condición>\n",
    "    <declaraciones>\n",
    "elseif <condición>\n",
    "    <declaraciones>\n",
    "else\n",
    "    <declaraciones>\n",
    "end \n",
    "```\n",
    "Si las condiciones son verdaderas (`true`) las declaraciones que están inmediatamente abajo se ejecutan. Al finalizar con estas declaraciones el intérprete sigue con su trabajo después de la línea `end`.\n",
    "\n",
    "**Las declaraciones `elseif` y `else` son opcionales**."
   ]
  },
  {
   "cell_type": "code",
   "execution_count": null,
   "metadata": {},
   "outputs": [],
   "source": [
    "x = 20\n",
    "y = 8\n",
    "if x > y \n",
    "    println(\"x es mayor a y\")\n",
    "elseif x < y\n",
    "    println(\"x es menor a y\")\n",
    "else\n",
    "    println(\"Son iguales\")\n",
    "end"
   ]
  },
  {
   "cell_type": "markdown",
   "metadata": {},
   "source": [
    "Cada vez que querramos comparar dos número tendremos que cambiar el valor de las variables (_x_, _y_) y escribir las 7 líneas que conforman el condicional. ¡Qué lata!\n",
    "\n",
    "### Ejercicio:\n",
    "\n",
    "* Defina una función que acepte dos argumentos y los compare. La función debe imprimir a pantalla cuál es el mayor o si son iguales."
   ]
  },
  {
   "cell_type": "code",
   "execution_count": null,
   "metadata": {},
   "outputs": [],
   "source": []
  },
  {
   "cell_type": "markdown",
   "metadata": {},
   "source": [
    "## Condicionales anidados\n",
    "\n",
    "Muchas veces será necesario escribir condicionales anidados como el siguiente:"
   ]
  },
  {
   "cell_type": "code",
   "execution_count": null,
   "metadata": {},
   "outputs": [],
   "source": [
    "x = -10\n",
    "y = 8\n",
    "if x == y \n",
    "    println(\"son iguales\")\n",
    "else\n",
    "    if x > y \n",
    "        println(\"x es mayor\")\n",
    "    else\n",
    "        println(\"x es menor\")\n",
    "    end\n",
    "end"
   ]
  },
  {
   "cell_type": "markdown",
   "metadata": {},
   "source": [
    "La celda anterior hace exactamente lo mismo que el ejemplo previo. La diferencia es que puede ser un poco más difícil de leer. Intentemos mantener nuestros códigos lo más claros posibles."
   ]
  },
  {
   "cell_type": "markdown",
   "metadata": {},
   "source": [
    "### Ejercicio:\n",
    "\n",
    "Escriban una función que acepte tres argumentos, reales, y nos diga si es posible construir un triángulo.\n",
    "\n",
    "**Condición**: Tenemos un triángulo degenerado si la suma de dos de sus argumentos es igual al tercero. Que la suma de dos argumentos sea menor a el tercero"
   ]
  },
  {
   "cell_type": "code",
   "execution_count": null,
   "metadata": {},
   "outputs": [],
   "source": []
  },
  {
   "cell_type": "markdown",
   "metadata": {},
   "source": [
    "## Recursión \n",
    "\n",
    "Antes habíamos dicho que una función puede llamar a otra función, incluso si es ella misma. Esto es algo que puede ser un tanto mágico. "
   ]
  },
  {
   "cell_type": "code",
   "execution_count": null,
   "metadata": {},
   "outputs": [],
   "source": [
    "function cuenta_regresiva(n)\n",
    "    if n == 0 \n",
    "        println(\"¡Ahí voy!\")\n",
    "    else\n",
    "        print(n, \" \")\n",
    "        cuenta_regresiva(n-1)\n",
    "    end\n",
    "end\n",
    "\n",
    "cuenta_regresiva(10)"
   ]
  },
  {
   "cell_type": "markdown",
   "metadata": {},
   "source": [
    "Esta característica de la programación es muy útil en el contexto de las matemáticas, vamos a poder construir series y funciones.\n",
    "\n",
    "### Ejercicio:\n",
    "* Escriba una función que calcule el factorial de un número _n_ arbitrario.\n",
    "\n"
   ]
  },
  {
   "cell_type": "code",
   "execution_count": null,
   "metadata": {},
   "outputs": [],
   "source": []
  }
 ],
 "metadata": {
  "@webio": {
   "lastCommId": "b5f55a4648694593beb70a928517b2fc",
   "lastKernelId": "26e7c06b-db00-402e-96ed-c9e1aade5a82"
  },
  "kernelspec": {
   "display_name": "Julia 1.0.2",
   "language": "julia",
   "name": "julia-1.0"
  },
  "language_info": {
   "file_extension": ".jl",
   "mimetype": "application/julia",
   "name": "julia",
   "version": "1.0.2"
  }
 },
 "nbformat": 4,
 "nbformat_minor": 2
}
