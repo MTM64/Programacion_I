{
 "cells": [
  {
   "cell_type": "markdown",
   "metadata": {},
   "source": [
    "## Repaso \n",
    "\n",
    "Para repasar y apropiarnos de los conceptos y métodos que hemos visto durante el semestre, esta clase estará dedicada a resolver ejercicios.\n",
    "\n",
    "### Ejercicio\n",
    "Pruebe si puede escribir letras griegas y emoticons"
   ]
  },
  {
   "cell_type": "code",
   "execution_count": null,
   "metadata": {},
   "outputs": [],
   "source": []
  },
  {
   "cell_type": "markdown",
   "metadata": {},
   "source": [
    "### Ejercicio\n",
    "\n",
    "* Crea una función que acepte como argumento una cadena y la imprima 100 veces\n",
    "* Cree una función llama `saludando(nombre,edad)` e imprima un texto de presentación en el cual exponga su nombre y edad"
   ]
  },
  {
   "cell_type": "code",
   "execution_count": null,
   "metadata": {},
   "outputs": [],
   "source": []
  },
  {
   "cell_type": "markdown",
   "metadata": {},
   "source": [
    "### Ejercicio \n",
    "\n",
    "* Reescriba la función `es_triangulo()` de tal manera que las longitudes de cada lado sea introducida por el usuario de manera interactiva.\n",
    "\n",
    "*Hint: usea la función `parse()` para convertir cadenas a números*"
   ]
  },
  {
   "cell_type": "code",
   "execution_count": null,
   "metadata": {},
   "outputs": [],
   "source": [
    "function triangulo()\n",
    "    a = \n",
    "    b = \n",
    "    c = \n",
    "    \n",
    "    ###cuerpo de condiconales\n",
    "    \n",
    "end\n",
    "\n",
    "triangulo()"
   ]
  },
  {
   "cell_type": "markdown",
   "metadata": {},
   "source": [
    "## Ejercicio\n",
    "\n",
    "Escriba una declaración condicional que imprima el número si es par, si no imprima la palabra \"impar\"."
   ]
  },
  {
   "cell_type": "code",
   "execution_count": null,
   "metadata": {},
   "outputs": [],
   "source": []
  },
  {
   "cell_type": "markdown",
   "metadata": {},
   "source": [
    "## Ejercicio\n",
    "\n",
    "Escriba una función recursiva que calcule los primeros `n` términos de la suceción de Fibonacci.\n",
    "\n",
    "La [sucesión de Fibonacci](https://es.wikipedia.org/wiki/Sucesi%C3%B3n_de_Fibonacci) es la serie infinita de números naturales\n",
    "\n",
    "> $0, 1, 1, 2, 3, 5, 8, 13, 21, ...$\n",
    "\n",
    "De manera recursiva se define como\n",
    "\n",
    "> $f_0 = 0$, $f_1= 1$  \n",
    ">\n",
    "> y  para $n>1$\n",
    ">\n",
    "> $f_n = f_{n-1}+f_{n-2}$.\n"
   ]
  },
  {
   "cell_type": "markdown",
   "metadata": {},
   "source": [
    "## `break` y `continue`\n",
    "\n",
    "A veces, al hacer una iteración, queremos saltarnos ciertos valores. En este caso `continue` es muy útil:"
   ]
  },
  {
   "cell_type": "code",
   "execution_count": null,
   "metadata": {},
   "outputs": [],
   "source": []
  },
  {
   "cell_type": "markdown",
   "metadata": {},
   "source": [
    "Otras tantas veces, no estarás seguro cuando terminar un loop o iteración. Aquí es útil `break`:"
   ]
  },
  {
   "cell_type": "code",
   "execution_count": null,
   "metadata": {},
   "outputs": [],
   "source": []
  },
  {
   "cell_type": "markdown",
   "metadata": {},
   "source": [
    "### Ejercicio\n",
    "\n",
    "Escriba una función que nos diga si un número es primo o no."
   ]
  },
  {
   "cell_type": "code",
   "execution_count": null,
   "metadata": {},
   "outputs": [],
   "source": []
  },
  {
   "cell_type": "markdown",
   "metadata": {},
   "source": [
    "### Ejercicio\n",
    "Escriba una función que imprima los primeros `n` números primos"
   ]
  },
  {
   "cell_type": "markdown",
   "metadata": {},
   "source": []
  }
 ],
 "metadata": {
  "@webio": {
   "lastCommId": "59e66b1fd441442e95667acc08e4fe5a",
   "lastKernelId": "d79e3058-bdbd-4708-abc6-12791141e2df"
  },
  "kernelspec": {
   "display_name": "Julia 1.0.2",
   "language": "julia",
   "name": "julia-1.0"
  },
  "language_info": {
   "file_extension": ".jl",
   "mimetype": "application/julia",
   "name": "julia",
   "version": "1.0.2"
  }
 },
 "nbformat": 4,
 "nbformat_minor": 2
}
